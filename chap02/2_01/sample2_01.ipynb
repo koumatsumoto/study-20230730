{
 "cells": [
  {
   "cell_type": "code",
   "execution_count": 1,
   "metadata": {},
   "outputs": [
    {
     "data": {
      "image/png": "[encoded data removed]",
      "text/plain": [
       "<Figure size 432x288 with 1 Axes>"
      ]
     },
     "metadata": {
      "needs_background": "light"
     },
     "output_type": "display_data"
    },
    {
     "data": {
      "image/png": "[encoded data removed]",
      "text/plain": [
       "<Figure size 432x288 with 1 Axes>"
      ]
     },
     "metadata": {
      "needs_background": "light"
     },
     "output_type": "display_data"
    }
   ],
   "source": [
    "# sales.csvのデータをプロットする\n",
    "\n",
    "%matplotlib inline\n",
    "import numpy as np                    # NumPyをインポート\n",
    "import matplotlib.pyplot as plt       # Matplotlibをインポート\n",
    "\n",
    "data = np.loadtxt(fname='sales.csv',  # 読み込むファイル名\n",
    "                  dtype='int',        # データ型を指定\n",
    "                  delimiter=',',      # 区切り文字を指定\n",
    "                  skiprows=1          # 1行目のタイトルを読み飛ばす\n",
    "                  )\n",
    "train_x = data[:,0]                   # 1列目の成分をxに代入\n",
    "train_y = data[:,1]                   # 2列目の成分をyに代入\n",
    "\n",
    "plt.plot(train_x,                     # x軸に割り当てるデータ\n",
    "         train_y,                     # y軸に割り当てるデータ\n",
    "         'o'                          # x,yの交点にドット(丸印)をプロットする\n",
    "         ) \n",
    "plt.show()                            # グラフを表示"
   ]
  },
  {
   "cell_type": "code",
   "execution_count": 2,
   "metadata": {},
   "outputs": [
    {
     "data": {
      "image/png": "[encoded data removed]",
      "text/plain": [
       "<Figure size 432x288 with 1 Axes>"
      ]
     },
     "metadata": {
      "needs_background": "light"
     },
     "output_type": "display_data"
    },
    {
     "data": {
      "image/png": "[encoded data removed]",
      "text/plain": [
       "<Figure size 432x288 with 1 Axes>"
      ]
     },
     "metadata": {
      "needs_background": "light"
     },
     "output_type": "display_data"
    }
   ],
   "source": [
    "# 標準化の式を実装する\n",
    "\n",
    "import numpy as np                    # NumPyをインポート\n",
    "import matplotlib.pyplot as plt       # Matplotlibをインポート\n",
    "\n",
    "def standardize(x):                   # xは標準化前のデータ\n",
    "    x_mean = x.mean()                 # 平均値を求める\n",
    "    std = x.std()                     # 標準偏差を求める\n",
    "    return (x - x_mean) / std         # 標準化した値を返す\n",
    "\n",
    "data = np.loadtxt(fname='sales.csv',  # 読み込むファイル\n",
    "                  dtype='int',        # データ型を指定\n",
    "                  delimiter=',',      # 区切り文字を指定\n",
    "                  skiprows=1          # 1行目のタイトルを読み飛ばす\n",
    "                  )\n",
    "x = data[:,0]                         # 1列目の成分をxに代入\n",
    "y = data[:,1]                         # 2列目の成分をyに代入\n",
    "standardized_x = standardize(x)\n",
    "\n",
    "plt.plot(standardized_x,              # x軸に標準化したxを割り当てる\n",
    "         y,                           # y軸に割り当てるデータ\n",
    "         'o'                          # ドット(点)をプロットする\n",
    "         ) \n",
    "plt.show()                            # グラフを表示\n"
   ]
  },
  {
   "cell_type": "code",
   "execution_count": 3,
   "metadata": {},
   "outputs": [],
   "source": [
    "import numpy as np\n",
    "import matplotlib.pyplot as plt\n",
    "\n",
    "def standardize(x):\n",
    "    '''\n",
    "        標準化を行う\n",
    "        x : 標準化前のx\n",
    "    '''\n",
    "    x_mean = x.mean()                     # 平均値を求める\n",
    "    std = x.std()                         # 標準偏差を求める   \n",
    "    return (x - x_mean) / std             # 標準化した値を返す\n",
    "\n",
    "def f(x_std, w_0, w_1):\n",
    "    '''\n",
    "        回帰直線を求める関数\n",
    "        x_std : 標準化後のx\n",
    "        w_0    : パラメーターw0\n",
    "        w_1    : パラメーターw1\n",
    "    '''\n",
    "    # f(x)=w_0 + w_1・xを戻り値として返す\n",
    "    return w_0 + w_1 * x_std\n",
    "\n",
    "def E(x_std, y, w_0, w_1):\n",
    "    '''\n",
    "        誤差関数\n",
    "        x_std : 標準化後のx\n",
    "        y     : yの値\n",
    "        w_0   : パラメーターθ0\n",
    "        w_1   : パラメーターθ1\n",
    "    '''\n",
    "    return 0.5 * np.sum(\n",
    "        (y - f(x_std, w_0, w_1)) ** 2\n",
    "    )\n",
    "\n",
    "def gradient_method(x_std, y):\n",
    "    '''\n",
    "        勾配法で最適化を行う\n",
    "        x_std : 標準化後のx\n",
    "        y     : yの値\n",
    "    '''\n",
    "    # パラメーターを初期化\n",
    "    w_0 = np.random.rand()\n",
    "    w_1 = np.random.rand()\n",
    "    # 学習率を0.001にセット\n",
    "    LNR = 1e-3\n",
    "    # 誤差関数の差分を保持する変数を1で初期化\n",
    "    difference = 1\n",
    "    # 更新回数をカウントする変数を1で初期化\n",
    "    count = 1\n",
    "    # パラメーターの初期値に誤差関数を適用してbeforeに代入\n",
    "    err_before = E(x_std, y, # x、yのデータ\n",
    "                   w_0, w_1  # パラメーターw0、w1\n",
    "                   )\n",
    "    # ログの書式\n",
    "    log = '{}回目: w0 = {:.3f}, w1 = {:.3f}, 差分 = {:.4f}'\n",
    "\n",
    "    # 誤差の差分が0.01以下になるまで更新を繰り返す\n",
    "    while difference > 1e-2: # 0.01\n",
    "        # w_0を更新する\n",
    "        tmp_w_0 = w_0 - LNR * np.sum(\n",
    "            (f(x_std, w_0, w_1) - y)\n",
    "        )\n",
    "        # w_1を更新する\n",
    "        tmp_w_1 = w_1 - LNR * np.sum(\n",
    "            (f(x_std, w_0, w_1) - y)*x_std\n",
    "        )\n",
    "        # 更新後のw_0、w_1の値をパラメーター用の変数に代入\n",
    "        w_0 = tmp_w_0\n",
    "        w_1 = tmp_w_1\n",
    "        # 更新後のw0、w1の値で誤差関数の値を求める\n",
    "        err_after = E(x_std, y, # x、yのデータ\n",
    "                      w_0, w_1  # 更新後のθ0、θ1\n",
    "                      )        \n",
    "        # パラメーター更新前後における誤差の差分を求める\n",
    "        difference = err_before - err_after\n",
    "        # パラメーター更新後の誤差をerr_beforeの値にする\n",
    "        err_before = err_after\n",
    "        # 最初の1回と以降100回ごとにログを出力\n",
    "        if (count == 1 or\n",
    "            count % 100 == 0):\n",
    "            print(log.format(count, w_0, w_1, difference))\n",
    "        # カウンター変数の値を1増やす\n",
    "        count += 1\n",
    "    # 最後の更新時のログを出力\n",
    "    print(log.format(count, w_0, w_1, difference))\n",
    "    # 更新終了後のパラメーターw0、w1の値を戻り値として返す\n",
    "    return w_0, w_1"
   ]
  },
  {
   "cell_type": "code",
   "execution_count": 4,
   "metadata": {},
   "outputs": [
    {
     "name": "stdout",
     "output_type": "stream",
     "text": [
      "1回目: w0 = 26.004, w1 = 5.949, 差分 = 689983.9642\n",
      "100回目: w0 = 1119.856, w1 = 239.643, 差分 = 12635.7779\n",
      "200回目: w0 = 1268.346, w1 = 271.366, 差分 = 222.2374\n",
      "300回目: w0 = 1288.039, w1 = 275.574, 差分 = 3.9087\n",
      "400回目: w0 = 1290.651, w1 = 276.132, 差分 = 0.0687\n",
      "449回目: w0 = 1290.899, w1 = 276.184, 差分 = 0.0099\n",
      "1回目: w0 = 26.004, w1 = 5.949, 差分 = 689983.9642\n",
      "100回目: w0 = 1119.856, w1 = 239.643, 差分 = 12635.7779\n",
      "200回目: w0 = 1268.346, w1 = 271.366, 差分 = 222.2374\n",
      "300回目: w0 = 1288.039, w1 = 275.574, 差分 = 3.9087\n",
      "400回目: w0 = 1290.651, w1 = 276.132, 差分 = 0.0687\n",
      "449回目: w0 = 1290.899, w1 = 276.184, 差分 = 0.0099\n"
     ]
    }
   ],
   "source": [
    "# 学習データを読み込む\n",
    "data = np.loadtxt(fname='sales.csv',  # 読み込むファイル\n",
    "                  dtype='int',        # データ型を指定\n",
    "                  delimiter=',',      # 区切り文字を指定\n",
    "                  skiprows=1          # 1行目のタイトルを読み飛ばす\n",
    "                  )\n",
    "x = data[:,0]                         # 1列目の成分をxに代入\n",
    "y = data[:,1]                         # 2列目の成分をyに代入\n",
    "x_std = standardize(x)                # xのすべての要素を標準化\n",
    "\n",
    "# 勾配法でパラメーターw0、w1の値を求める\n",
    "w_0, w_1 = gradient_method(x_std, y)"
   ]
  },
  {
   "cell_type": "code",
   "execution_count": 5,
   "metadata": {},
   "outputs": [
    {
     "data": {
      "image/png": "[encoded data removed]",
      "text/plain": [
       "<Figure size 432x288 with 1 Axes>"
      ]
     },
     "metadata": {
      "needs_background": "light"
     },
     "output_type": "display_data"
    },
    {
     "data": {
      "image/png": "[encoded data removed]",
      "text/plain": [
       "<Figure size 432x288 with 1 Axes>"
      ]
     },
     "metadata": {
      "needs_background": "light"
     },
     "output_type": "display_data"
    }
   ],
   "source": [
    "# x軸の値として-3から3までの等差数列を生成\n",
    "x_axis = np.linspace(start=-3,       # 数列の始点\n",
    "                     stop=3,         # 数列の終点\n",
    "                     num=100         # 等差数列の要素数\n",
    "                     )\n",
    "\n",
    "# 標準化したxの値とyの値が交差するポイントをプロット\n",
    "plt.plot(x_std, y, 'o')\n",
    "# x軸の等差数列に対応するyをf()関数で求め、回帰直線をプロット\n",
    "plt.plot(x_axis, f(x_axis, w_0, w_1))\n",
    "# グラフを表示\n",
    "plt.show()"
   ]
  },
  {
   "cell_type": "code",
   "execution_count": 6,
   "metadata": {},
   "outputs": [
    {
     "name": "stdout",
     "output_type": "stream",
     "text": [
      "予測に使用するxの値を入力してください>300\n",
      "1947.0018028688826\n",
      "1947.0018028688826\n"
     ]
    }
   ],
   "source": [
    "input_x = input('予測に使用するxの値を入力してください>')\n",
    "x_mean = x.mean()                  # xの平均値を求める\n",
    "std = x.std()                      # xの標準偏差を求める\n",
    "pred = (int(input_x) - x_mean)/std # 入力値を標準化する\n",
    "print(f(pred, w_0, w_1))           # 予測したyの値を出力"
   ]
  },
  {
   "cell_type": "code",
   "execution_count": 7,
   "metadata": {},
   "outputs": [],
   "source": [
    "# 更新ごとの差分をグラフにする\n",
    "def gradient_method(x_std, y):\n",
    "    '''\n",
    "        勾配法で最適化を行う\n",
    "        x_std : 標準化後のx\n",
    "        y     : yの値\n",
    "    '''\n",
    "    # 変数の初期化\n",
    "    w_0 = np.random.rand()\n",
    "    w_1 = np.random.rand()\n",
    "    LNR = 1e-3\n",
    "    difference = 1\n",
    "    count = 1\n",
    "    \n",
    "    # パラメーターの初期値に誤差関数を適用してbeforeに代入\n",
    "    err_before = E(x_std, y, # x、yのデータ\n",
    "                   w_0, w_1  # パラメーターw0、w1\n",
    "                   )\n",
    "    # ログの書式\n",
    "    log = '{}回目: w0 = {:.3f}, w1 = {:.3f}, 差分 = {:.4f}'\n",
    "\n",
    "    differences = []  # 差分を保持する配列\n",
    "    # 誤差の差分が0.01以下になるまで更新を繰り返す\n",
    "    while difference > 1e-2: # 0.01\n",
    "        # w_0を更新\n",
    "        tmp_w_0 = w_0 - LNR * np.sum(\n",
    "            (f(x_std, w_0, w_1) - y)\n",
    "        )\n",
    "        # w_1を更新\n",
    "        tmp_w_1 = w_1 - LNR * np.sum(\n",
    "            (f(x_std, w_0, w_1) - y)*x_std\n",
    "        )\n",
    "        # 更新後のw_0、w_1の値をパラメーター用の変数に代入\n",
    "        w_0 = tmp_w_0\n",
    "        w_1 = tmp_w_1\n",
    "        # 更新後のw0、w1の値で誤差関数の値を求める\n",
    "        err_after = E(x_std, y,\n",
    "                      w_0, w_1\n",
    "                      )        \n",
    "        # パラメーター更新前後における誤差の差分を求める\n",
    "        difference = err_before - err_after\n",
    "        # パラメーター更新後の誤差をerr_beforeの値にする\n",
    "        err_before = err_after\n",
    "        # 最初の1回と以降100回ごとにログを出力\n",
    "        if (count == 1 or\n",
    "            count % 100 == 0):\n",
    "            print(log.format(count, w_0, w_1, difference))\n",
    "        # 差分を記録\n",
    "        differences.append(difference)\n",
    "        # カウンター変数の値を1増やす\n",
    "        count += 1\n",
    "    # 最後の更新時のログを出力\n",
    "    print(log.format(count, w_0, w_1, difference))\n",
    "\n",
    "    # 記録された差分の範囲で等差数列を生成\n",
    "    x_count = np.arange(len(differences))\n",
    "    # 差分の変化をプロット\n",
    "    plt.plot(x_count, differences)\n",
    "    # グラフを表示\n",
    "    plt.show()\n",
    "\n",
    "    # 更新終了後のパラメーターw0、w1の値を戻り値として返す\n",
    "    return w_0, w_1"
   ]
  },
  {
   "cell_type": "code",
   "execution_count": 8,
   "metadata": {},
   "outputs": [
    {
     "name": "stdout",
     "output_type": "stream",
     "text": [
      "1回目: w0 = 25.838, w1 = 6.393, 差分 = 690058.7350\n",
      "100回目: w0 = 1119.834, w1 = 239.703, 差分 = 12637.1472\n",
      "200回目: w0 = 1268.343, w1 = 271.374, 差分 = 222.26151回目: w0 = 25.838, w1 = 6.393, 差分 = 690058.7350\n",
      "100回目: w0 = 1119.834, w1 = 239.703, 差分 = 12637.1472\n",
      "200回目: w0 = 1268.343, w1 = 271.374, 差分 = 222.2615\n",
      "300回目: w0 = 1288.039, w1 = 275.575, 差分 = 3.9091\n",
      "400回目: w0 = 1290.651, w1 = 276.132, 差分 = 0.0688\n",
      "449回目: w0 = 1290.899, w1 = 276.185, 差分 = 0.0099\n",
      "\n",
      "300回目: w0 = 1288.039, w1 = 275.575, 差分 = 3.9091\n",
      "400回目: w0 = 1290.651, w1 = 276.132, 差分 = 0.0688\n",
      "449回目: w0 = 1290.899, w1 = 276.185, 差分 = 0.0099\n"
     ]
    },
    {
     "data": {
      "image/png": "[encoded data removed]",
      "text/plain": [
       "<Figure size 432x288 with 1 Axes>"
      ]
     },
     "metadata": {
      "needs_background": "light"
     },
     "output_type": "display_data"
    },
    {
     "data": {
      "image/png": "[encoded data removed]",
      "text/plain": [
       "<Figure size 432x288 with 1 Axes>"
      ]
     },
     "metadata": {
      "needs_background": "light"
     },
     "output_type": "display_data"
    }
   ],
   "source": [
    "# 学習データを読み込む\n",
    "data = np.loadtxt(fname='sales.csv',  # 読み込むファイル\n",
    "                  dtype='int',        # データ型を指定\n",
    "                  delimiter=',',      # 区切り文字を指定\n",
    "                  skiprows=1          # 1行目のタイトルを読み飛ばす\n",
    "                  )\n",
    "x = data[:,0]                         # 1列目の成分をxに代入\n",
    "y = data[:,1]                         # 2列目の成分をyに代入\n",
    "x_std = standardize(x)                # xのすべての要素を標準化\n",
    "\n",
    "# 勾配法でパラメーターw0、w1の値を求める\n",
    "w_0, w_1 = gradient_method(x_std, y)"
   ]
  },
  {
   "cell_type": "code",
   "execution_count": null,
   "metadata": {},
   "outputs": [],
   "source": []
  }
 ],
 "metadata": {
  "kernelspec": {
   "display_name": "Python 3",
   "language": "python",
   "name": "python3"
  },
  "language_info": {
   "codemirror_mode": {
    "name": "ipython",
    "version": 3
   },
   "file_extension": ".py",
   "mimetype": "text/x-python",
   "name": "python",
   "nbconvert_exporter": "python",
   "pygments_lexer": "ipython3",
   "version": "3.6.7"
  }
 },
 "nbformat": 4,
 "nbformat_minor": 2
}
