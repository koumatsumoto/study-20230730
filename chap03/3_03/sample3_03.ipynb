{
 "cells": [
  {
   "cell_type": "code",
   "execution_count": 1,
   "metadata": {},
   "outputs": [
    {
     "data": {
      "image/png": "[encoded data removed]",
      "text/plain": [
       "<Figure size 432x288 with 1 Axes>"
      ]
     },
     "metadata": {
      "needs_background": "light"
     },
     "output_type": "display_data"
    }
   ],
   "source": [
    "# グラフのインライン表示\n",
    "%matplotlib inline\n",
    "# ライブラリのインポート\n",
    "import numpy as np\n",
    "import matplotlib.pyplot as plt\n",
    "\n",
    "def sigmoid(x):                   # シグモイド関数\n",
    "    return 1 / (1 + np.exp(-x))\n",
    "\n",
    "# -5.0から5.0までを0.01刻みにした等差数列\n",
    "x = np.arange(-5.0, 5.0, 0.01)    \n",
    "y = sigmoid(x) # 等差数列を引数にしてシグモイド関数を実行\n",
    "plt.plot(x,    # 等差数列をx軸に設定\n",
    "         y)    # シグモイド関数の結果をy軸にしてグラフを描く\n",
    "plt.grid(True) # グリッドを表示\n",
    "plt.show()"
   ]
  },
  {
   "cell_type": "code",
   "execution_count": 2,
   "metadata": {},
   "outputs": [],
   "source": [
    "%matplotlib inline\n",
    "import numpy as np\n",
    "import matplotlib.pyplot as plt\n",
    "\n",
    "def standardize(x):\n",
    "    '''\n",
    "        標準化を行う\n",
    "        ------------\n",
    "        x : 標準化前のx1、x2\n",
    "    '''\n",
    "    x_mean = x.mean(axis=0)   # 列ごとの平均値を求める\n",
    "    std = x.std(axis=0)       # 列ごとの標準偏差を求める\n",
    "    return (x - x_mean) / std # 標準化した値を返す\n",
    "\n",
    "def create_matrix(x):\n",
    "    '''\n",
    "        データx1、x2にバイアスに対応するx0を加えた行列を作成\n",
    "    '''\n",
    "    x0 = np.ones([x.shape[0], 1]) # バイアスに対応する1の項\n",
    "    return np.hstack([x0, x])     # x0,x1,x2の行列を返す\n",
    "\n",
    "def sigmoid(X, parameter):\n",
    "    '''\n",
    "        シグモイド関数\n",
    "        ------------\n",
    "        X         : x0、x1、x2の行列\n",
    "        parameter : w0,w1,w3のベクトル\n",
    "    '''\n",
    "    return 1 / (1 + np.exp(-np.dot(X, parameter)))\n",
    "\n",
    "def logistic_regression(X, t):\n",
    "    '''\n",
    "        ロジスティック回帰による二値分類の学習を行う\n",
    "        ------------\n",
    "        X : x0、x1、x2の行列\n",
    "        t : 正解ラベル\n",
    "    '''\n",
    "    parameter = np.random.rand(3) # w0,w1,w2を初期化\n",
    "    LNR = 1e-3                    # 学習率を0.001に設定\n",
    "    loop = 2000                   # 更新回数\n",
    "    count = 1                     # 処理回数をカウントする変数\n",
    "\n",
    "    for i in range(loop):         # 学習をloop回繰り返す\n",
    "        # w0,w1,w2の更新\n",
    "        parameter = parameter - LNR*np.dot(\n",
    "            sigmoid(X,parameter) - t,\n",
    "            X\n",
    "            )\n",
    "        # 最初の1回と以降100回ごとにログを出力\n",
    "        if (count == 1 or count % 100 == 0):\n",
    "            print('{}回: parameter = {}'.format(count, parameter))        \n",
    "        count += 1               # カウンター変数の値を1増やす\n",
    "        \n",
    "    return parameter             # 学習後のw0、w1、w2を返す"
   ]
  },
  {
   "cell_type": "code",
   "execution_count": 3,
   "metadata": {},
   "outputs": [
    {
     "name": "stdout",
     "output_type": "stream",
     "text": [
      "1回: parameter = [ 0.54542414  0.37839821 -0.00098014]\n",
      "100回: parameter = [ 0.33914685  0.41127069 -0.40941024]\n",
      "200回: parameter = [ 0.21210458  0.52024788 -0.68714729]\n",
      "300回: parameter = [ 0.13675803  0.65471892 -0.89559362]\n",
      "400回: parameter = [ 0.09277619  0.79334326 -1.06764504]\n",
      "500回: parameter = [ 0.06810273  0.92857339 -1.21863546]\n",
      "600回: parameter = [ 0.05543968  1.05816928 -1.3561118 ]\n",
      "700回: parameter = [ 0.05025097  1.18180494 -1.48409126]\n",
      "800回: parameter = [ 0.04967108  1.29979048 -1.60489212]\n",
      "900回: parameter = [ 0.05187503  1.41260469 -1.7199571 ]\n",
      "1000回: parameter = [ 0.05569768  1.52073224 -1.83024576]\n",
      "1100回: parameter = [ 0.06039671  1.62461388 -1.93643317]\n",
      "1200回: parameter = [ 0.06550245  1.72463668 -2.03901703]\n",
      "1300回: parameter = [ 0.07072168  1.82113749 -2.13837874]\n",
      "1400回: parameter = [ 0.07587541  1.91440964 -2.23482013]\n",
      "1500回: parameter = [ 0.0808585   2.00470976 -2.32858661]\n",
      "1600回: parameter = [ 0.08561336  2.09226351 -2.41988231]\n",
      "1700回: parameter = [ 0.09011268  2.17727044 -2.50888028]\n",
      "1800回: parameter = [ 0.09434822  2.25990787 -2.59572964]\n",
      "1900回: parameter = [ 0.0983234   2.34033411 -2.68056066]\n",
      "2000回: parameter = [ 0.1020485   2.41869104 -2.76348848]\n"
     ]
    }
   ],
   "source": [
    "# 学習データを読み込む\n",
    "data = np.loadtxt(\n",
    "    'MaleFemale2.csv',   # 読み込むファイル\n",
    "    dtype='int',         # データ型を指定\n",
    "    delimiter=',',       # 区切り文字を指定\n",
    "    skiprows=1           # 1行目のタイトルを読み飛ばす\n",
    "    )\n",
    "x = data[:,0:2]          # x1、x2を行列xに代入\n",
    "t = data[:,2]            # 3列目のデータをtに代入\n",
    "x_std = standardize(x)   # xのすべての成分を標準化\n",
    "X = create_matrix(x_std) # 標準化したxにバイアス対応の1の項を追加する\n",
    "\n",
    "# パラメーターの値を学習する\n",
    "parameter = logistic_regression(X, t)"
   ]
  },
  {
   "cell_type": "code",
   "execution_count": 4,
   "metadata": {},
   "outputs": [
    {
     "data": {
      "image/png": "[encoded data removed]",
      "text/plain": [
       "<Figure size 432x288 with 1 Axes>"
      ]
     },
     "metadata": {
      "needs_background": "light"
     },
     "output_type": "display_data"
    }
   ],
   "source": [
    "# x軸の値として-2から2までの等差数列を生成\n",
    "x0 = np.linspace(start=-2, # 数列の始点\n",
    "                 stop=2,   # 数列の終点\n",
    "                 num=1100  # 等差数列の要素数\n",
    "                 )\n",
    "\n",
    "# t == 1のデータをプロット\n",
    "plt.plot(x_std[t == 1, 0],\n",
    "         x_std[t == 1, 1], 'x')\n",
    "# t == 0のデータをプロット\n",
    "plt.plot(x_std[t == 0, 0],\n",
    "         x_std[t == 0, 1], 'o')\n",
    "# 決定境界をプロット\n",
    "plt.plot(x0,\n",
    "         -(parameter[0] + parameter[1] * x0) / parameter[2],\n",
    "         linestyle='dashed'\n",
    "         )\n",
    "plt.show()"
   ]
  },
  {
   "cell_type": "code",
   "execution_count": 5,
   "metadata": {},
   "outputs": [
    {
     "data": {
      "text/plain": [
       "array([0.74587196, 0.47037325, 0.34255605])"
      ]
     },
     "execution_count": 5,
     "metadata": {},
     "output_type": "execute_result"
    }
   ],
   "source": [
    "sigmoid(\n",
    "    create_matrix(\n",
    "        standardize(np.array([[50, 40],    # x1が大きい\n",
    "                              [10, 20],    # x2が大きい\n",
    "                              [100, 110]]) # x2が大きい\n",
    "        )\n",
    "    ),\n",
    "    parameter             # 学習後の重み\n",
    ")"
   ]
  },
  {
   "cell_type": "code",
   "execution_count": 6,
   "metadata": {},
   "outputs": [
    {
     "data": {
      "text/plain": [
       "array([1, 0, 0])"
      ]
     },
     "execution_count": 6,
     "metadata": {},
     "output_type": "execute_result"
    }
   ],
   "source": [
    "(sigmoid(\n",
    "    create_matrix(standardize(\n",
    "        np.array([[50, 40],    # x1が大きい\n",
    "                  [10, 20],    # x2が大きい\n",
    "                  [100, 120]]) # x2が大きい\n",
    "        )),\n",
    "    parameter                  # 学習後の重み\n",
    ") >= 0.5).astype(np.int)       # sigmoid()の戻り値が\n",
    "                               # 0.5以上であれば1、\n",
    "                               # そうでなければ0を返す"
   ]
  },
  {
   "cell_type": "code",
   "execution_count": null,
   "metadata": {},
   "outputs": [],
   "source": []
  }
 ],
 "metadata": {
  "kernelspec": {
   "display_name": "Python 3",
   "language": "python",
   "name": "python3"
  },
  "language_info": {
   "codemirror_mode": {
    "name": "ipython",
    "version": 3
   },
   "file_extension": ".py",
   "mimetype": "text/x-python",
   "name": "python",
   "nbconvert_exporter": "python",
   "pygments_lexer": "ipython3",
   "version": "3.6.7"
  }
 },
 "nbformat": 4,
 "nbformat_minor": 2
}
