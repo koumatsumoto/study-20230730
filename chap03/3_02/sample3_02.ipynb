{
 "cells": [
  {
   "cell_type": "code",
   "execution_count": 1,
   "metadata": {},
   "outputs": [],
   "source": [
    "# グラフのインライン表示\n",
    "%matplotlib inline\n",
    "# ライブラリのインポート\n",
    "import numpy as np\n",
    "import matplotlib.pyplot as plt\n",
    "\n",
    "def classify(x, w):\n",
    "    '''\n",
    "    分類関数(活性化関数)\n",
    "    x : x1、x2のベクトル\n",
    "    w : w1、w2のベクトル\n",
    "    '''\n",
    "    if np.dot(w, x) >= 0:\n",
    "        return 1  # w・x≧0 なら1を返す\n",
    "    else:\n",
    "        return -1 # w・x＜0 なら－1を返す"
   ]
  },
  {
   "cell_type": "code",
   "execution_count": 2,
   "metadata": {},
   "outputs": [],
   "source": [
    "def learn_weights(x, t):\n",
    "    '''\n",
    "    更新式で重みを学習する\n",
    "    x : x1、x2のベクトル\n",
    "    t : tのベクトル\n",
    "    ''' \n",
    "    w = np.random.rand(2) # w1、w2の初期化  \n",
    "    loop = 5              # 繰り返し回数\n",
    "    count = 1             # カウンター変数\n",
    "\n",
    "    # 指定した回数だけ重みの学習を繰り返す\n",
    "    for i in range(loop):\n",
    "        # ベクトルx、tから成分を取り出す\n",
    "        for element_x, element_t in zip(x, t):\n",
    "            # 分類関数の出力が異なる場合は重みを更新する\n",
    "            if classify(element_x, w) != element_t:\n",
    "                w = w + element_t * element_x\n",
    "                print('更新後のw = ', w)\n",
    "        # ログの出力\n",
    "        print('[{}回目]: w = {}***'.format(count, w))\n",
    "        count += 1\n",
    "    return w"
   ]
  },
  {
   "cell_type": "code",
   "execution_count": 3,
   "metadata": {},
   "outputs": [
    {
     "name": "stdout",
     "output_type": "stream",
     "text": [
      "更新後のw =  [ -40.26637715 -207.60628903]\n",
      "更新後のw =  [448.73362285 191.39371097]\n",
      "更新後のw =  [ 200.73362285 -253.60628903]\n",
      "更新後のw =  [611.73362285  82.39371097]\n",
      "更新後のw =  [ 197.73362285 -365.60628903]\n",
      "更新後のw =  [615.73362285 -50.60628903]\n",
      "更新後のw =  [ 221.73362285 -481.60628903]\n",
      "[1回目]: w = [ 221.73362285 -481.60628903]***\n",
      "更新後のw =  [710.73362285 -82.60628903]\n",
      "更新後のw =  [ 462.73362285 -527.60628903]\n",
      "[2回目]: w = [ 462.73362285 -527.60628903]***\n",
      "[3回目]: w = [ 462.73362285 -527.60628903]***\n",
      "[4回目]: w = [ 462.73362285 -527.60628903]***\n",
      "[5回目]: w = [ 462.73362285 -527.60628903]***\n"
     ]
    }
   ],
   "source": [
    "data = np.loadtxt(\n",
    "    'MaleFemale.csv',   # 読み込むファイル\n",
    "    delimiter=',',      # 区切り文字を指定\n",
    "    skiprows=1          # 1行目を読み飛ばす\n",
    "    )\n",
    "x = data[:,0:2]         # 1～2列目のデータをxに代入\n",
    "t = data[:,2]           # 2列目のデータをtに代入\n",
    "\n",
    "w = learn_weights(x, t) # 重みw1、w2を求める"
   ]
  },
  {
   "cell_type": "code",
   "execution_count": 4,
   "metadata": {},
   "outputs": [
    {
     "data": {
      "image/png": "[encoded data removed]",
      "text/plain": [
       "<Figure size 432x288 with 1 Axes>"
      ]
     },
     "metadata": {
      "needs_background": "light"
     },
     "output_type": "display_data"
    }
   ],
   "source": [
    "# 軸の範囲を設定\n",
    "x1 = np.arange(0, 600)    \n",
    "# 分類ラベルが1のデータをドットでプロット\n",
    "plt.plot(\n",
    "    x[t ==  1, 0], x[t ==  1, 1], 'x'\n",
    "    )\n",
    "# 分類ラベルが－1のデータをxでプロット\n",
    "plt.plot(\n",
    "    x[t == -1, 0], x[t == -1, 1], 'o'\n",
    "    )\n",
    "# 境界線をプロット\n",
    "plt.plot(\n",
    "    x1, -w[0] / w[1] * x1, linestyle='solid'\n",
    "    )\n",
    "plt.show()"
   ]
  },
  {
   "cell_type": "code",
   "execution_count": 5,
   "metadata": {},
   "outputs": [
    {
     "name": "stdout",
     "output_type": "stream",
     "text": [
      "1\n",
      "-1\n",
      "-1\n"
     ]
    }
   ],
   "source": [
    "print(classify([500, 100], w)) # 出力は1\n",
    "print(classify([85, 99], w))   # 出力は－1\n",
    "print(classify([450, 495], w)) # 出力は-1"
   ]
  },
  {
   "cell_type": "code",
   "execution_count": null,
   "metadata": {},
   "outputs": [],
   "source": []
  }
 ],
 "metadata": {
  "kernelspec": {
   "display_name": "Python 3",
   "language": "python",
   "name": "python3"
  },
  "language_info": {
   "codemirror_mode": {
    "name": "ipython",
    "version": 3
   },
   "file_extension": ".py",
   "mimetype": "text/x-python",
   "name": "python",
   "nbconvert_exporter": "python",
   "pygments_lexer": "ipython3",
   "version": "3.6.7"
  }
 },
 "nbformat": 4,
 "nbformat_minor": 2
}
