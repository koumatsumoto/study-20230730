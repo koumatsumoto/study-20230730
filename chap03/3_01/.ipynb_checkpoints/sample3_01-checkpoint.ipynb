{
 "cells": [
  {
   "cell_type": "code",
   "execution_count": 1,
   "metadata": {},
   "outputs": [],
   "source": [
    "# AND演算\n",
    "import numpy as np                 # numpyのインポート\n",
    "\n",
    "def AND(x1, x2):\n",
    "    x1_x2 = np.array([x1, x2])\n",
    "    w0 = -0.8                      # バイアス\n",
    "    w1_w2 = np.array([0.5, 0.5])   # w1、w2の配列\n",
    "    tmp = w0 + np.sum(w1_w2*x1_x2) # w0 + w1・x1 + w2・x2\n",
    "    if tmp <= 0:\n",
    "        return 0\n",
    "    elif tmp > 0:\n",
    "        return 1"
   ]
  },
  {
   "cell_type": "code",
   "execution_count": 2,
   "metadata": {},
   "outputs": [
    {
     "name": "stdout",
     "output_type": "stream",
     "text": [
      "0\n",
      "0\n",
      "0\n",
      "1\n"
     ]
    }
   ],
   "source": [
    "print(AND(0, 0))  # 0が出力される\n",
    "print(AND(1, 0))  # 0が出力される\n",
    "print(AND(0, 1))  # 0が出力される\n",
    "print(AND(1, 1))  # 1が出力される"
   ]
  },
  {
   "cell_type": "code",
   "execution_count": 3,
   "metadata": {},
   "outputs": [],
   "source": [
    "# NAND演算\n",
    "def NAND(x1, x2):\n",
    "    x1_x2 = np.array([x1, x2])\n",
    "    w0 = 0.8                       # バイアス\n",
    "    w1_w2 = np.array([-0.5, -0.5]) # w1、w2の配列\n",
    "    tmp = w0 + np.sum(w1_w2*x1_x2) # w0 + w1・x1 + w2・x2\n",
    "    if tmp <= 0:\n",
    "        return 0\n",
    "    elif tmp > 0:\n",
    "        return 1"
   ]
  },
  {
   "cell_type": "code",
   "execution_count": 4,
   "metadata": {},
   "outputs": [
    {
     "name": "stdout",
     "output_type": "stream",
     "text": [
      "1\n",
      "1\n",
      "1\n",
      "0\n"
     ]
    }
   ],
   "source": [
    "print(NAND(0, 0)) # 1を出力\n",
    "print(NAND(1, 0)) # 1を出力\n",
    "print(NAND(0, 1)) # 1を出力\n",
    "print(NAND(1, 1)) # 0を出力"
   ]
  },
  {
   "cell_type": "code",
   "execution_count": 5,
   "metadata": {},
   "outputs": [],
   "source": [
    "# OR演算\n",
    "def OR(x1, x2):\n",
    "    x1_x2 = np.array([x1, x2])\n",
    "    w0 = -0.4                      # バイアス\n",
    "    w1_w2 = np.array([0.5, 0.5])   # w1、w2の配列\n",
    "    tmp = w0 + np.sum(w1_w2*x1_x2) # w0 + w1・x1 + w2・x2\n",
    "    if tmp <= 0:\n",
    "        return 0\n",
    "    elif tmp > 0:\n",
    "        return 1"
   ]
  },
  {
   "cell_type": "code",
   "execution_count": 6,
   "metadata": {},
   "outputs": [
    {
     "name": "stdout",
     "output_type": "stream",
     "text": [
      "0\n",
      "1\n",
      "1\n",
      "1\n"
     ]
    }
   ],
   "source": [
    "print(OR(0, 0)) # 0を出力\n",
    "print(OR(1, 0)) # 1を出力\n",
    "print(OR(0, 1)) # 1を出力\n",
    "print(OR(1, 1)) # 1を出力"
   ]
  },
  {
   "cell_type": "code",
   "execution_count": 7,
   "metadata": {},
   "outputs": [],
   "source": [
    "# 多層パーセプトロンによるXOR演算\n",
    "import numpy as np                 # numpyのインポート\n",
    "\n",
    "# AND演算\n",
    "def AND(x1, x2):\n",
    "    x1_x2 = np.array([x1, x2])\n",
    "    w0 = -0.8                      # バイアス\n",
    "    w1_w2 = np.array([0.5, 0.5])   # w1、w2の配列\n",
    "    tmp = w0 + np.sum(w1_w2*x1_x2) # w0 + w1・x1 + w2・x2\n",
    "    if tmp <= 0:\n",
    "        return 0\n",
    "    elif tmp > 0:\n",
    "        return 1\n",
    "\n",
    "# NAND演算\n",
    "def NAND(x1, x2):\n",
    "    x1_x2 = np.array([x1, x2])\n",
    "    w0 = 0.8                       # バイアス\n",
    "    w1_w2 = np.array([-0.5, -0.5]) # w1、w2の配列\n",
    "    tmp = w0 + np.sum(w1_w2*x1_x2) # w0 + w1・x1 + w2・x2\n",
    "    if tmp <= 0:\n",
    "        return 0\n",
    "    elif tmp > 0:\n",
    "        return 1\n",
    "\n",
    "# OR演算\n",
    "def OR(x1, x2):\n",
    "    x1_x2 = np.array([x1, x2])\n",
    "    w0 = -0.4                      # バイアス\n",
    "    w1_w2 = np.array([0.5, 0.5])   # w1、w2の配列\n",
    "    tmp = w0 + np.sum(w1_w2*x1_x2) # w0 + w1・x1 + w2・x2\n",
    "    if tmp <= 0:\n",
    "        return 0\n",
    "    elif tmp > 0:\n",
    "        return 1\n",
    "\n",
    "# XOR演算\n",
    "def XOR(x1, x2):\n",
    "    _nand = NAND(x1, x2)   # 第1層\n",
    "    _or = OR(x1, x2)       # 第1層\n",
    "    _xor = AND(_nand, _or) # 第2層\n",
    "    return _xor"
   ]
  },
  {
   "cell_type": "code",
   "execution_count": 8,
   "metadata": {},
   "outputs": [
    {
     "name": "stdout",
     "output_type": "stream",
     "text": [
      "0\n",
      "1\n",
      "1\n",
      "0\n"
     ]
    }
   ],
   "source": [
    "print(XOR(0, 0)) # 0を出力\n",
    "print(XOR(1, 0)) # 1を出力\n",
    "print(XOR(0, 1)) # 1を出力\n",
    "print(XOR(1, 1)) # 0を出力"
   ]
  },
  {
   "cell_type": "code",
   "execution_count": null,
   "metadata": {},
   "outputs": [],
   "source": []
  }
 ],
 "metadata": {
  "kernelspec": {
   "display_name": "Python 3",
   "language": "python",
   "name": "python3"
  },
  "language_info": {
   "codemirror_mode": {
    "name": "ipython",
    "version": 3
   },
   "file_extension": ".py",
   "mimetype": "text/x-python",
   "name": "python",
   "nbconvert_exporter": "python",
   "pygments_lexer": "ipython3",
   "version": "3.6.7"
  }
 },
 "nbformat": 4,
 "nbformat_minor": 2
}
