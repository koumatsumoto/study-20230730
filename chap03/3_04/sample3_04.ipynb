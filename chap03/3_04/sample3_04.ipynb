{
 "cells": [
  {
   "cell_type": "code",
   "execution_count": 1,
   "metadata": {},
   "outputs": [],
   "source": [
    "%matplotlib inline\n",
    "import numpy as np\n",
    "import matplotlib.pyplot as plt\n",
    "\n",
    "def standardize(x):\n",
    "    '''\n",
    "        標準化を行う\n",
    "        ------------\n",
    "        x : 標準化前のx1、x2\n",
    "    '''\n",
    "    x_mean = x.mean(axis=0)       # 列ごとの平均値を求める\n",
    "    std = x.std(axis=0)           # 列ごとの標準偏差を求める  \n",
    "    return (x - x_mean) / std     # 標準化した値を返す\n",
    "\n",
    "def create_matrix(x1_2):\n",
    "    '''\n",
    "        バイアス項x0、x1、x2、x1の2乗の行列を作成                \n",
    "    '''\n",
    "    x0 = np.ones([x.shape[0], 1])  # バイアスに対応する1の項\n",
    "    x3 = x1_2[:,0,np.newaxis] ** 2 # x1を2乗したベクトルを作成\n",
    "    return np.hstack(\n",
    "        [x0, x1_2, x3])            # x0, x1_2, x3を列方向に連結\n",
    "\n",
    "def sigmoid(x, parameter):\n",
    "    '''\n",
    "        シグモイド関数\n",
    "        ------------\n",
    "        X         : x0、x1、x2の行列\n",
    "        parameter : w0,w1,w3のベクトル\n",
    "    '''\n",
    "    return 1 / (1 + np.exp(-np.dot(x, parameter)))\n",
    "\n",
    "def logistic_polynomial(X, t):\n",
    "    '''\n",
    "        多項式を用いたロジスティック回帰で学習する\n",
    "        ------------\n",
    "        X : x0,x1,x2、x1を2乗した項のの行列\n",
    "        t : 分類値(正解ラベル)\n",
    "    '''\n",
    "    parameter = np.random.rand(4) # w0,w1,w2,w3を初期化\n",
    "    LNR = 1e-3                    # 学習率を0.001に設定\n",
    "    loop = 2000                   # 更新回数\n",
    "    count = 1                     # 更新回数をカウントする変数を0で初期化\n",
    "    for i in range(loop):         # 学習をloop回繰り返す\n",
    "        # w0,w1,w3,w3を更新する\n",
    "        parameter = parameter - LNR * np.dot(\n",
    "            sigmoid(X, parameter) - t,\n",
    "            X\n",
    "            )\n",
    "        # 最初の1回と以降100回ごとにログを出力\n",
    "        if (count == 1 or count % 100 == 0):\n",
    "            print('{}回: parameter = {}'.format(count, parameter))        \n",
    "        count += 1               # カウンター変数の値を1増やす\n",
    "   \n",
    "    return parameter             # 学習後のw0、w1、w2を返す"
   ]
  },
  {
   "cell_type": "code",
   "execution_count": 2,
   "metadata": {},
   "outputs": [
    {
     "name": "stdout",
     "output_type": "stream",
     "text": [
      "1回: parameter = [0.29762286 0.01756124 0.04596328 0.57756899]\n",
      "100回: parameter = [ 0.00862878  0.21723711 -0.50617713  0.46413342]\n",
      "200回: parameter = [-0.16874988  0.35783113 -0.87083767  0.51793811]\n",
      "300回: parameter = [-0.30525978  0.45977884 -1.13524971  0.62197515]\n",
      "400回: parameter = [-0.42613323  0.53777198 -1.34384512  0.73263478]\n",
      "500回: parameter = [-0.53835774  0.60028825 -1.5172979   0.83816828]\n",
      "600回: parameter = [-0.64397278  0.65235138 -1.66649804  0.93620489]\n",
      "700回: parameter = [-0.74374557  0.69705942 -1.79787732  1.02692284]\n",
      "800回: parameter = [-0.83813203  0.73639575 -1.91557761  1.11109207]\n",
      "900回: parameter = [-0.92751703  0.77167414 -2.02243824  1.18952686]\n",
      "1000回: parameter = [-1.01226563  0.80379276 -2.12049643  1.26294849]\n",
      "1100回: parameter = [-1.09272783  0.83338426 -2.21126477  1.33196615]\n",
      "1200回: parameter = [-1.16923464  0.86090685 -2.29589677  1.39708895]\n",
      "1300回: parameter = [-1.24209448  0.88670124 -2.37529136  1.45874344]\n",
      "1400回: parameter = [-1.31159157  0.91102695 -2.45016185  1.51728954]\n",
      "1500回: parameter = [-1.37798589  0.93408603 -2.52108316  1.57303347]\n",
      "1600回: parameter = [-1.44151411  0.95603896 -2.58852501  1.626238  ]\n",
      "1700回: parameter = [-1.50239116  0.97701545 -2.65287583  1.67713029]\n",
      "1800回: parameter = [-1.56081195  0.99712202 -2.71446032  1.72590818]\n",
      "1900回: parameter = [-1.61695322  1.01644738 -2.77355264  1.77274504]\n",
      "2000回: parameter = [-1.67097529  1.03506629 -2.83038632  1.81779372]\n"
     ]
    }
   ],
   "source": [
    "# 学習データを読み込む\n",
    "data = np.loadtxt(\n",
    "    'inseparable.csv',   # 読み込むファイル\n",
    "    dtype='int',         # データ型を指定\n",
    "    delimiter=',',       # 区切り文字を指定\n",
    "    skiprows=1           # 1行目のタイトルを読み飛ばす\n",
    "    )\n",
    "x = data[:,0:2]          # x1、x2を行列xに代入\n",
    "t = data[:,2]            # 3列目の成分をtに代入\n",
    "x_std = standardize(x)   # xのすべての成分を標準化\n",
    "X = create_matrix(x_std) # 標準化したxにバイアス項,x1の2乗を追加する\n",
    "# パラメーターの値を求める\n",
    "parameter = logistic_polynomial(X, t)"
   ]
  },
  {
   "cell_type": "code",
   "execution_count": 3,
   "metadata": {},
   "outputs": [
    {
     "data": {
      "image/png": "[encoded data removed]",
      "text/plain": [
       "<Figure size 432x288 with 1 Axes>"
      ]
     },
     "metadata": {
      "needs_background": "light"
     },
     "output_type": "display_data"
    }
   ],
   "source": [
    "# x軸の値として-2から2までの等差数列を生成\n",
    "x0 = np.linspace(start=-2, # 数列の始点\n",
    "                 stop=2,   # 数列の終点\n",
    "                 num=100   # 等差数列の要素数\n",
    "                 )\n",
    "\n",
    "# t == 1のデータをプロット\n",
    "plt.plot(x_std[t == 1, 0],\n",
    "         x_std[t == 1, 1], 'x')\n",
    "# t == 0のデータをプロット\n",
    "plt.plot(x_std[t == 0, 0],\n",
    "         x_std[t == 0, 1], 'o')\n",
    "# 決定境界をプロット\n",
    "plt.plot(x0,\n",
    "         -(parameter[0] + parameter[1] * x0\n",
    "         + parameter[3] * x0 ** 2) / parameter[2],\n",
    "         linestyle='dashed'\n",
    "         )\n",
    "plt.show()"
   ]
  },
  {
   "cell_type": "code",
   "execution_count": null,
   "metadata": {},
   "outputs": [],
   "source": []
  }
 ],
 "metadata": {
  "kernelspec": {
   "display_name": "Python 3",
   "language": "python",
   "name": "python3"
  },
  "language_info": {
   "codemirror_mode": {
    "name": "ipython",
    "version": 3
   },
   "file_extension": ".py",
   "mimetype": "text/x-python",
   "name": "python",
   "nbconvert_exporter": "python",
   "pygments_lexer": "ipython3",
   "version": "3.6.7"
  }
 },
 "nbformat": 4,
 "nbformat_minor": 2
}
