{
 "cells": [
  {
   "cell_type": "code",
   "execution_count": 1,
   "metadata": {},
   "outputs": [],
   "source": [
    "%matplotlib inline\n",
    "import numpy as np\n",
    "import matplotlib.pyplot as plt\n",
    "\n",
    "def standardize(x):\n",
    "    '''\n",
    "        標準化を行う\n",
    "        ------------\n",
    "        x : 標準化前のx1、x2\n",
    "    '''\n",
    "    x_mean = x.mean(axis=0)       # 列ごとの平均値を求める\n",
    "    std = x.std(axis=0)           # 列ごとの標準偏差を求める  \n",
    "    return (x - x_mean) / std     # 標準化した値を返す\n",
    "\n",
    "def create_matrix(x1_2):\n",
    "    '''\n",
    "        バイアス項x0、x1、x2、x1の2乗の行列を作成                \n",
    "    '''\n",
    "    x0 = np.ones([x.shape[0], 1])  # バイアスに対応する1の項\n",
    "    x3 = x1_2[:,0,np.newaxis] ** 2 # x1を2乗したベクトルを作成\n",
    "    return np.hstack(\n",
    "        [x0, x1_2, x3])            # x0, x1_2, x3を列方向に連結\n",
    "\n",
    "def sigmoid(x, parameter):\n",
    "    '''\n",
    "        シグモイド関数\n",
    "        ------------\n",
    "        X         : x0、x1、x2の行列\n",
    "        parameter : w0,w1,w3のベクトル\n",
    "    '''\n",
    "    return 1 / (1 + np.exp(-np.dot(x, parameter)))\n",
    "\n",
    "def logistic_polynomial(X, t):\n",
    "    '''\n",
    "        多項式を用いたロジスティック回帰で学習する\n",
    "        ------------\n",
    "        X : x0,x1,x2、x1を2乗した項のの行列\n",
    "        t : 分類値(正解ラベル)\n",
    "    '''\n",
    "    parameter = np.random.rand(4) # w0,w1,w2,w3を初期化\n",
    "    LNR = 1e-3                    # 学習率を0.001に設定\n",
    "    loop = 1000                   # 更新回数\n",
    "    count = 1                     # 更新回数をカウントする変数を0で初期化\n",
    "    for i in range(loop):         # 学習をloop回繰り返す\n",
    "        # 確率的勾配降下法でパラメーターを更新\n",
    "        p = np.random.permutation(X.shape[0])\n",
    "        for tmp_x, tmp_t in zip(X[p,:], t[p]):\n",
    "            # w0,w1,w3,w33を更新する\n",
    "            parameter = parameter - LNR * np.dot(\n",
    "                sigmoid(X, parameter) - t,\n",
    "                X\n",
    "                )\n",
    "        # 最初の1回と以降100回ごとにログを出力\n",
    "        if (count == 1 or count % 100 == 0):\n",
    "            print('{}回: parameter = {}'.format(count, parameter))        \n",
    "        count += 1               # カウンター変数の値を1増やす\n",
    "   \n",
    "    return parameter             # 学習後のw0、w1、w2を返す"
   ]
  },
  {
   "cell_type": "code",
   "execution_count": 2,
   "metadata": {
    "scrolled": true
   },
   "outputs": [
    {
     "name": "stdout",
     "output_type": "stream",
     "text": [
      "1回: parameter = [ 0.1010931   0.10227331 -0.06026082  0.29234585]\n",
      "100回: parameter = [-1.66320967  1.0333136  -2.82354075  1.8114383 ]\n",
      "200回: parameter = [-2.45697211  1.31696868 -3.67672351  2.4766816 ]\n",
      "300回: parameter = [-2.96075145  1.51573769 -4.25642417  2.9067037 ]\n",
      "400回: parameter = [-3.33201347  1.67452847 -4.70851936  3.22870237]\n",
      "500回: parameter = [-3.62716346  1.80910528 -5.08439769  3.48806849]\n",
      "600回: parameter = [-3.87272674  1.927112   -5.40894312  3.70632521]\n",
      "700回: parameter = [-4.08332221  2.03291173 -5.69626517  3.89541752]\n",
      "800回: parameter = [-4.26788361  2.12925923 -5.95519145  4.06268244]\n",
      "900回: parameter = [-4.43228143  2.21801874 -6.19163603  4.21295933]\n",
      "1000回: parameter = [-4.58058633  2.30051788 -6.40976739  4.3496136 ]\n"
     ]
    }
   ],
   "source": [
    "# 学習データを読み込む\n",
    "data = np.loadtxt(\n",
    "    'inseparable.csv',   # 読み込むファイル\n",
    "    dtype='int',         # データ型を指定\n",
    "    delimiter=',',       # 区切り文字を指定\n",
    "    skiprows=1           # 1行目のタイトルを読み飛ばす\n",
    "    )\n",
    "x = data[:,0:2]          # x1、x2を行列xに代入\n",
    "t = data[:,2]            # 3列目の成分をtに代入\n",
    "x_std = standardize(x)   # xのすべての成分を標準化\n",
    "X = create_matrix(x_std) # 標準化したxにバイアス項を追加する\n",
    "# パラメーターの値を求める\n",
    "parameter = logistic_polynomial(X, t)"
   ]
  },
  {
   "cell_type": "code",
   "execution_count": 3,
   "metadata": {},
   "outputs": [
    {
     "data": {
      "image/png": "[encoded data removed]",
      "text/plain": [
       "<Figure size 432x288 with 1 Axes>"
      ]
     },
     "metadata": {},
     "output_type": "display_data"
    }
   ],
   "source": [
    "# x軸の値として-2から2までの等差数列を生成\n",
    "x0 = np.linspace(start=-2, # 数列の始点\n",
    "                 stop=2,   # 数列の終点\n",
    "                 num=100   # 等差数列の要素数\n",
    "                 )\n",
    "\n",
    "# t == 1のデータをプロット\n",
    "plt.plot(x_std[t == 1, 0],\n",
    "         x_std[t == 1, 1], 'o')\n",
    "# t == 0のデータをプロット\n",
    "plt.plot(x_std[t == 0, 0],\n",
    "         x_std[t == 0, 1], 'x')\n",
    "# 決定境界をプロット\n",
    "plt.plot(x0,\n",
    "         -(parameter[0] + parameter[1] * x0\n",
    "         + parameter[3] * x0 ** 2) / parameter[2],\n",
    "         linestyle='dashed'\n",
    "         )\n",
    "plt.show()"
   ]
  },
  {
   "cell_type": "code",
   "execution_count": null,
   "metadata": {},
   "outputs": [],
   "source": []
  }
 ],
 "metadata": {
  "kernelspec": {
   "display_name": "Python 3",
   "language": "python",
   "name": "python3"
  },
  "language_info": {
   "codemirror_mode": {
    "name": "ipython",
    "version": 3
   },
   "file_extension": ".py",
   "mimetype": "text/x-python",
   "name": "python",
   "nbconvert_exporter": "python",
   "pygments_lexer": "ipython3",
   "version": "3.6.7"
  }
 },
 "nbformat": 4,
 "nbformat_minor": 2
}
