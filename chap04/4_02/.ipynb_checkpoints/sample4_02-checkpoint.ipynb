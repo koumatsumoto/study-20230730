{
 "cells": [
  {
   "cell_type": "code",
   "execution_count": 1,
   "metadata": {
    "scrolled": true
   },
   "outputs": [
    {
     "name": "stdout",
     "output_type": "stream",
     "text": [
      "0.32\n",
      "0.4800000000000001\n",
      "0.1\n",
      "0.4\n"
     ]
    }
   ],
   "source": [
    "import numpy as np\n",
    "\n",
    "e2_1 = 0.8\n",
    "e2_2 = 0.5\n",
    "\n",
    "w2_11 = 2.0\n",
    "w2_21 = 1.0\n",
    "w2_12 = 3.0\n",
    "w2_22 = 4.0\n",
    "\n",
    "_w2_11 = e2_1*w2_11/(w2_11 + w2_12)\n",
    "print(_w2_11)\n",
    "_w2_12 = e2_1*w2_12/(w2_11 + w2_12)\n",
    "print(_w2_12)\n",
    "_w2_21 = e2_2*w2_21/(w2_21 + w2_22)\n",
    "print(_w2_21)\n",
    "_w2_22 = e2_2*w2_22/(w2_21 + w2_22)\n",
    "print(_w2_22)"
   ]
  },
  {
   "cell_type": "code",
   "execution_count": 2,
   "metadata": {},
   "outputs": [
    {
     "name": "stdout",
     "output_type": "stream",
     "text": [
      "0.42000000000000004\n",
      "0.8800000000000001\n"
     ]
    }
   ],
   "source": [
    "e1_1 = _w2_11 + _w2_21\n",
    "e1_2 = _w2_12 + _w2_22\n",
    "print(e1_1)\n",
    "print(e1_2)"
   ]
  },
  {
   "cell_type": "code",
   "execution_count": 3,
   "metadata": {},
   "outputs": [
    {
     "name": "stdout",
     "output_type": "stream",
     "text": [
      "0.25200000000000006\n",
      "0.168\n",
      "0.11000000000000001\n",
      "0.7700000000000001\n"
     ]
    }
   ],
   "source": [
    "w1_11 = 3.0\n",
    "w1_21 = 1.0\n",
    "w1_12 = 2.0\n",
    "w1_22 = 7.0\n",
    "\n",
    "_w1_11 = e1_1*w1_11/(w1_11 + w1_12)\n",
    "print(_w1_11)\n",
    "_w1_12 = e1_1*w1_12/(w1_11 + w1_12)\n",
    "print(_w1_12)\n",
    "_w1_21 = e1_2*w1_21/(w1_21 + w1_22)\n",
    "print(_w1_21)\n",
    "_w1_22 = e1_2*w1_22/(w1_21 + w1_22)\n",
    "print(_w1_22)"
   ]
  },
  {
   "cell_type": "code",
   "execution_count": 4,
   "metadata": {},
   "outputs": [
    {
     "name": "stdout",
     "output_type": "stream",
     "text": [
      "0.3620000000000001\n",
      "0.9380000000000002\n"
     ]
    }
   ],
   "source": [
    "e0_1 = _w1_11 + _w1_21\n",
    "e0_2 = _w1_12 + _w1_22\n",
    "print(e0_1)\n",
    "print(e0_2)"
   ]
  },
  {
   "cell_type": "code",
   "execution_count": 5,
   "metadata": {},
   "outputs": [
    {
     "ename": "NameError",
     "evalue": "name 'E2' is not defined",
     "output_type": "error",
     "traceback": [
      "\u001b[1;31m---------------------------------------------------------------------------\u001b[0m",
      "\u001b[1;31mNameError\u001b[0m                                 Traceback (most recent call last)",
      "\u001b[1;32m<ipython-input-5-a53ccd1e772c>\u001b[0m in \u001b[0;36m<module>\u001b[1;34m\u001b[0m\n\u001b[0;32m     16\u001b[0m                [w2_12/(w2_11 + w2_12), w2_22/(w2_21 + w2_22)]])\n\u001b[0;32m     17\u001b[0m \u001b[1;33m\u001b[0m\u001b[0m\n\u001b[1;32m---> 18\u001b[1;33m \u001b[0mprint\u001b[0m\u001b[1;33m(\u001b[0m\u001b[0mnp\u001b[0m\u001b[1;33m.\u001b[0m\u001b[0mdot\u001b[0m\u001b[1;33m(\u001b[0m\u001b[0mE2\u001b[0m\u001b[1;33m,\u001b[0m \u001b[0me3\u001b[0m\u001b[1;33m)\u001b[0m\u001b[1;33m)\u001b[0m \u001b[1;31m# 出力：[0.42 0.88]\u001b[0m\u001b[1;33m\u001b[0m\u001b[1;33m\u001b[0m\u001b[0m\n\u001b[0m",
      "\u001b[1;31mNameError\u001b[0m: name 'E2' is not defined"
     ]
    }
   ],
   "source": [
    "import numpy as np\n",
    "\n",
    "e2_1 = 0.8\n",
    "e2_2 = 0.5\n",
    "\n",
    "w2_11 = 2.0\n",
    "w2_21 = 1.0\n",
    "w2_12 = 3.0\n",
    "w2_22 = 4.0\n",
    "\n",
    "# 最終出力の誤差\n",
    "e3 = np.array([e2_1, e2_2])\n",
    "\n",
    "# 出力層の重みに分配する誤差\n",
    "e2 = np.array([[w2_11/(w2_11 + w2_12), w2_21/(w2_21 + w2_22)],\n",
    "               [w2_12/(w2_11 + w2_12), w2_22/(w2_21 + w2_22)]])\n",
    "\n",
    "print(np.dot(E2, e3)) # 出力：[0.42 0.88]"
   ]
  },
  {
   "cell_type": "code",
   "execution_count": null,
   "metadata": {},
   "outputs": [],
   "source": [
    "W2 = np.array([[w2_11, w2_21],  # 重みだけを成分にする\n",
    "               [w2_12, w2_22]])\n",
    "print(np.dot(W3, e3))           # 出力：[2.1 4.4]"
   ]
  },
  {
   "cell_type": "code",
   "execution_count": null,
   "metadata": {},
   "outputs": [],
   "source": []
  }
 ],
 "metadata": {
  "kernelspec": {
   "display_name": "Python 3",
   "language": "python",
   "name": "python3"
  },
  "language_info": {
   "codemirror_mode": {
    "name": "ipython",
    "version": 3
   },
   "file_extension": ".py",
   "mimetype": "text/x-python",
   "name": "python",
   "nbconvert_exporter": "python",
   "pygments_lexer": "ipython3",
   "version": "3.6.7"
  }
 },
 "nbformat": 4,
 "nbformat_minor": 2
}
