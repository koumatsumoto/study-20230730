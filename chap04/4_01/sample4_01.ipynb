{
 "cells": [
  {
   "cell_type": "code",
   "execution_count": 1,
   "metadata": {},
   "outputs": [],
   "source": [
    "import numpy as np\n",
    "\n",
    "def sigmoid(x):\n",
    "    '''\n",
    "    シグモイド関数\n",
    "    \n",
    "    '''\n",
    "    return 1 / (1 + np.exp(-x))\n",
    "\n",
    "def identity_function(x):\n",
    "    '''\n",
    "    恒等関数\n",
    "    \n",
    "    '''\n",
    "    return x\n",
    "\n",
    "def init_network():\n",
    "    '''\n",
    "    重みとバイアスの初期化を行う\n",
    "    \n",
    "    '''\n",
    "    network = {}\n",
    "    # 入力層→第1層への重み\n",
    "    # 第1層のニューロン数＝3\n",
    "    network['W1'] = np.array([[0.1, 0.3, 0.5],\n",
    "                              [0.2, 0.4, 0.6]])\n",
    "    # 第1層のバイアス\n",
    "    network['b1'] = np.array([0.1, 0.2, 0.3])\n",
    "    \n",
    "    # 第1層→第2層\n",
    "    # 第2層のニューロン数＝2\n",
    "    network['W2'] = np.array([[0.1, 0.4],\n",
    "                              [0.2, 0.5],\n",
    "                              [0.3, 0.6]])\n",
    "    # 第2層のバイアス\n",
    "    network['b2'] = np.array([0.1, 0.2])\n",
    "    \n",
    "    # 第2層→出力層\n",
    "    # 出力層のニューロン数＝2\n",
    "    network['W3'] = np.array([[0.1, 0.3],\n",
    "                              [0.2, 0.4]])\n",
    "    # 出力層のバイアス\n",
    "    network['b3'] = np.array([0.1, 0.2])\n",
    "    \n",
    "    return network"
   ]
  },
  {
   "cell_type": "code",
   "execution_count": 2,
   "metadata": {},
   "outputs": [],
   "source": [
    "# 重み、バイアスを初期化して行列、ベクトルに格納\n",
    "network = init_network()\n",
    "W1, W2, W3 = network['W1'], network['W2'], network['W3']\n",
    "b1, b2, b3 = network['b1'], network['b2'], network['b3'] "
   ]
  },
  {
   "cell_type": "code",
   "execution_count": 13,
   "metadata": {},
   "outputs": [
    {
     "name": "stdout",
     "output_type": "stream",
     "text": [
      "[1.  0.5]\n"
     ]
    }
   ],
   "source": [
    "# 入力層\n",
    "x = np.array([1.0, 0.5])\n",
    "print(x)"
   ]
  },
  {
   "cell_type": "code",
   "execution_count": 11,
   "metadata": {},
   "outputs": [
    {
     "name": "stdout",
     "output_type": "stream",
     "text": [
      "[0.3 0.7 1.1]\n",
      "[0.57444252 0.66818777 0.75026011]\n"
     ]
    }
   ],
   "source": [
    "# 第1層\n",
    "a1 = np.dot(x, W1) + b1 # 入力層からの重み付き信号\n",
    "print(a1)               #  [0.3 0.7 1.1]\n",
    "z1 = sigmoid(a1)        # シグモイド関数を適用して出力する\n",
    "print(z1)               # [0.57444252 0.66818777 0.75026011]"
   ]
  },
  {
   "cell_type": "code",
   "execution_count": 14,
   "metadata": {},
   "outputs": [
    {
     "name": "stdout",
     "output_type": "stream",
     "text": [
      "[0.51615984 1.21402696]\n",
      "[0.62624937 0.7710107 ]\n"
     ]
    }
   ],
   "source": [
    "# 第2層\n",
    "a2 = np.dot(z1, W2) + b2 # 第1層からの重み付き信号\n",
    "print(a2)                #  [0.51615984 1.21402696]\n",
    "z2 = sigmoid(a2)         # シグモイド関数を適用して出力する\n",
    "print(z2)                # [0.62624937 0.7710107 ]"
   ]
  },
  {
   "cell_type": "code",
   "execution_count": 15,
   "metadata": {},
   "outputs": [
    {
     "name": "stdout",
     "output_type": "stream",
     "text": [
      "[0.31682708 0.69627909]\n",
      "[0.31682708 0.69627909]\n"
     ]
    }
   ],
   "source": [
    "# 第3層\n",
    "a3 = np.dot(z2, W3) + b3  # 第2層からの重み付き信号\n",
    "print(a3)                 #  [0.31682708 0.69627909]\n",
    "y = identity_function(a3) # 恒等関数を適用して出力する\n",
    "print(y)                  # [0.31682708 0.69627909]"
   ]
  },
  {
   "cell_type": "code",
   "execution_count": null,
   "metadata": {},
   "outputs": [],
   "source": []
  },
  {
   "cell_type": "code",
   "execution_count": null,
   "metadata": {},
   "outputs": [],
   "source": []
  }
 ],
 "metadata": {
  "kernelspec": {
   "display_name": "Python 3",
   "language": "python",
   "name": "python3"
  },
  "language_info": {
   "codemirror_mode": {
    "name": "ipython",
    "version": 3
   },
   "file_extension": ".py",
   "mimetype": "text/x-python",
   "name": "python",
   "nbconvert_exporter": "python",
   "pygments_lexer": "ipython3",
   "version": "3.6.7"
  }
 },
 "nbformat": 4,
 "nbformat_minor": 2
}
